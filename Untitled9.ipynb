{
 "cells": [
  {
   "cell_type": "code",
   "execution_count": 5,
   "id": "4cfe3c87",
   "metadata": {
    "scrolled": false
   },
   "outputs": [
    {
     "name": "stdout",
     "output_type": "stream",
     "text": [
      "Downloading from https://www.kaggle.com/api/v1/datasets/download/evangower/premier-league-matches-19922022?dataset_version_number=2...\n"
     ]
    },
    {
     "name": "stderr",
     "output_type": "stream",
     "text": [
      "100%|██████████████████████████████████████| 79.9k/79.9k [00:00<00:00, 6.30MB/s]"
     ]
    },
    {
     "name": "stdout",
     "output_type": "stream",
     "text": [
      "Extracting files...\n",
      "Path to dataset files: /Users/jackcolvin/.cache/kagglehub/datasets/evangower/premier-league-matches-19922022/versions/2\n"
     ]
    },
    {
     "name": "stderr",
     "output_type": "stream",
     "text": [
      "\n"
     ]
    }
   ],
   "source": [
    "import kagglehub\n",
    "\n",
    "\n",
    "# Download latest version\n",
    "path = kagglehub.dataset_download(\"evangower/premier-league-matches-19922022\")\n",
    "\n",
    "print(\"Path to dataset files:\", path)"
   ]
  },
  {
   "cell_type": "code",
   "execution_count": 6,
   "id": "36e394a9",
   "metadata": {},
   "outputs": [
    {
     "name": "stdout",
     "output_type": "stream",
     "text": [
      "Files in dataset folder:\n",
      "premier-league-matches.csv\n",
      "\n",
      "Loading file: premier-league-matches.csv\n",
      "\n",
      "First 5 rows:\n",
      "    Season_End_Year  Wk        Date            Home  HomeGoals  AwayGoals  \\\n",
      "0             1993   1  1992-08-15   Coventry City          2          1   \n",
      "1             1993   1  1992-08-15    Leeds United          2          1   \n",
      "2             1993   1  1992-08-15   Sheffield Utd          2          1   \n",
      "3             1993   1  1992-08-15  Crystal Palace          3          3   \n",
      "4             1993   1  1992-08-15         Arsenal          2          4   \n",
      "\n",
      "             Away FTR  \n",
      "0   Middlesbrough   H  \n",
      "1       Wimbledon   H  \n",
      "2  Manchester Utd   H  \n",
      "3       Blackburn   D  \n",
      "4    Norwich City   A  \n",
      "\n",
      "Columns:\n",
      " ['Season_End_Year', 'Wk', 'Date', 'Home', 'HomeGoals', 'AwayGoals', 'Away', 'FTR']\n"
     ]
    }
   ],
   "source": [
    "import os\n",
    "import pandas as pd\n",
    "dataset_dir = \"/Users/jackcolvin/.cache/kagglehub/datasets/evangower/premier-league-matches-19922022/versions/2\"\n",
    "\n",
    "# List files to see what's available\n",
    "files = os.listdir(dataset_dir)\n",
    "print(\"Files in dataset folder:\")\n",
    "for f in files:\n",
    "    print(f)\n",
    "\n",
    "# Assume it's a CSV file — load it\n",
    "for f in files:\n",
    "    if f.endswith(\".csv\"):\n",
    "        file_path = os.path.join(dataset_dir, f)\n",
    "        print(f\"\\nLoading file: {f}\")\n",
    "        df = pd.read_csv(file_path)\n",
    "        print(\"\\nFirst 5 rows:\\n\", df.head())\n",
    "        print(\"\\nColumns:\\n\", df.columns.tolist())\n",
    "        break  # remove if you want to load all CSVs"
   ]
  },
  {
   "cell_type": "code",
   "execution_count": 13,
   "id": "9e24a0fd",
   "metadata": {},
   "outputs": [
    {
     "name": "stdout",
     "output_type": "stream",
     "text": [
      "3\n"
     ]
    }
   ],
   "source": [
    "def compute_points(row, team):\n",
    "    if row['Home'] == team:\n",
    "        if row['FTR'] == 'H':\n",
    "            return 3  # Home win\n",
    "        elif row['FTR'] == 'D':\n",
    "            return 1  # Draw\n",
    "        else:\n",
    "            return 0  # Home loss\n",
    "    elif row['Away'] == team:\n",
    "        if row['FTR'] == 'A':\n",
    "            return 3  # Away win\n",
    "        elif row['FTR'] == 'D':\n",
    "            return 1  # Draw\n",
    "        else:\n",
    "            return 0  # Away loss\n",
    "    else:\n",
    "        return None\n",
    "    \n",
    "print(compute_points(df.iloc[1], 'Leeds United'))"
   ]
  },
  {
   "cell_type": "code",
   "execution_count": 53,
   "id": "39865d4a",
   "metadata": {},
   "outputs": [
    {
     "name": "stdout",
     "output_type": "stream",
     "text": [
      "59\n"
     ]
    }
   ],
   "source": [
    "\n",
    "def compute_season_points(season, team):\n",
    "    season_df = df[df['Season_End_Year'] == season]\n",
    "    points_total = 0\n",
    "    for i in range(len(season_df)):\n",
    "        row = season_df.iloc[i]\n",
    "        points_add = compute_points(row, team)\n",
    "        if points_add != None:\n",
    "            points_total += points_add\n",
    "    return points_total\n",
    "            \n",
    "print(compute_season_points(1993, 'Liverpool'))\n",
    "    "
   ]
  },
  {
   "cell_type": "code",
   "execution_count": 33,
   "id": "c49456d8",
   "metadata": {},
   "outputs": [
    {
     "name": "stdout",
     "output_type": "stream",
     "text": [
      "(84.0, 'Manchester Utd')\n"
     ]
    }
   ],
   "source": [
    "import numpy as np\n",
    "\n",
    "def league_winner(season):\n",
    "    season_df = df[df['Season_End_Year'] == season]\n",
    "    teams = pd.unique(season_df[['Home', 'Away']].values.ravel('K'))\n",
    "    points_array = np.zeros(len(teams))\n",
    "    k = 0\n",
    "    for i in teams: \n",
    "        points = compute_season_points(season, i)\n",
    "        points_array[k] += points\n",
    "        k+=1\n",
    "    index = np.where(points_array.max() == points_array)[0][0]\n",
    "    points = points_array[index]\n",
    "    team = teams[index]\n",
    "    return points, team\n",
    "\n",
    "print(league_winner(1993))\n",
    "    \n",
    "            \n",
    "    "
   ]
  },
  {
   "cell_type": "code",
   "execution_count": 40,
   "id": "b3a08dc7",
   "metadata": {},
   "outputs": [
    {
     "name": "stdout",
     "output_type": "stream",
     "text": [
      "2023\n",
      "[1993 1994 1995 1996 1997 1998 1999 2000 2001 2002 2003 2004 2005 2006\n",
      " 2007 2008 2009 2010 2011 2012 2013 2014 2015 2016 2017 2018 2019 2020\n",
      " 2021 2022 2023]\n",
      "0\n",
      "1\n",
      "2\n",
      "3\n",
      "4\n",
      "5\n",
      "6\n",
      "7\n",
      "8\n",
      "9\n",
      "10\n",
      "11\n",
      "12\n",
      "13\n",
      "14\n",
      "15\n",
      "16\n",
      "17\n",
      "18\n",
      "19\n",
      "20\n",
      "21\n",
      "22\n",
      "23\n",
      "24\n",
      "25\n",
      "26\n",
      "27\n",
      "28\n",
      "29\n",
      "30\n"
     ]
    },
    {
     "data": {
      "text/plain": [
       "<matplotlib.collections.PathCollection at 0x127068650>"
      ]
     },
     "execution_count": 40,
     "metadata": {},
     "output_type": "execute_result"
    },
    {
     "data": {
      "image/png": "[encoded data removed]",
      "text/plain": [
       "<Figure size 640x480 with 1 Axes>"
      ]
     },
     "metadata": {},
     "output_type": "display_data"
    }
   ],
   "source": [
    "print(np.max(df['Season_End_Year']))\n",
    "\n",
    "\n",
    "import matplotlib.pyplot as plt\n",
    "\n",
    "seasons = np.arange(1993, 2024)\n",
    "print(seasons)\n",
    "winner_points = np.zeros(len(seasons))\n",
    "for i, season in enumerate(seasons):\n",
    "    print(i)\n",
    "   \n",
    "    points, team = league_winner(season)\n",
    "    winner_points[i] += points\n",
    "    \n",
    "plt.scatter(seasons, winner_points)  \n",
    "\n",
    "# no clear standout trends in this analysis \n",
    "#maybe a slight upward trend in goals \n",
    "    "
   ]
  },
  {
   "cell_type": "code",
   "execution_count": 58,
   "id": "c9057f66",
   "metadata": {},
   "outputs": [
    {
     "data": {
      "text/plain": [
       "<matplotlib.collections.PathCollection at 0x1643a8a90>"
      ]
     },
     "execution_count": 58,
     "metadata": {},
     "output_type": "execute_result"
    },
    {
     "data": {
      "image/png": "[encoded data removed]",
      "text/plain": [
       "<Figure size 640x480 with 1 Axes>"
      ]
     },
     "metadata": {},
     "output_type": "display_data"
    }
   ],
   "source": [
    "def season_gpg(season):\n",
    "    goals_tot = 0\n",
    "    season_df = df[df['Season_End_Year'] == season]\n",
    "    for i in range(len(season_df)):\n",
    "        row = season_df.iloc[i]\n",
    "        goals_tot += row['HomeGoals']\n",
    "        goals_tot += row['AwayGoals']\n",
    "    return goals_tot / len(season_df)\n",
    "    \n",
    "goals_per_szn = np.zeros(len(seasons))\n",
    "\n",
    "\n",
    "for i, season in enumerate(seasons):\n",
    "    goals_per_szn[i] += season_gpg(season)\n",
    "    \n",
    "    \n",
    "\n",
    "plt.scatter(seasons, goals_per_szn)\n",
    "    \n",
    "\n",
    "#much clearer trend of increasing goals per game here \n",
    "    "
   ]
  },
  {
   "cell_type": "code",
   "execution_count": null,
   "id": "936fe362",
   "metadata": {},
   "outputs": [],
   "source": []
  }
 ],
 "metadata": {
  "kernelspec": {
   "display_name": "Python 3 (ipykernel)",
   "language": "python",
   "name": "python3"
  },
  "language_info": {
   "codemirror_mode": {
    "name": "ipython",
    "version": 3
   },
   "file_extension": ".py",
   "mimetype": "text/x-python",
   "name": "python",
   "nbconvert_exporter": "python",
   "pygments_lexer": "ipython3",
   "version": "3.11.4"
  }
 },
 "nbformat": 4,
 "nbformat_minor": 5
}
